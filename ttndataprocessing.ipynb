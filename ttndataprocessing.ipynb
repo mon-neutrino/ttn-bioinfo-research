{
  "nbformat": 4,
  "nbformat_minor": 0,
  "metadata": {
    "colab": {
      "name": "ttn.ipynb",
      "private_outputs": true,
      "provenance": [],
      "authorship_tag": "ABX9TyPqabas6a9DrYCfPaTYYQX6",
      "include_colab_link": true
    },
    "kernelspec": {
      "name": "python3",
      "display_name": "Python 3"
    }
  },
  "cells": [
    {
      "cell_type": "markdown",
      "metadata": {
        "id": "view-in-github",
        "colab_type": "text"
      },
      "source": [
        "<a href=\"https://colab.research.google.com/github/mon-neutrino/ttn-bioinfo-research/blob/main/ttndataprocessing.ipynb\" target=\"_parent\"><img src=\"https://colab.research.google.com/assets/colab-badge.svg\" alt=\"Open In Colab\"/></a>"
      ]
    },
    {
      "cell_type": "code",
      "metadata": {
        "id": "23glL7v40Z7D"
      },
      "source": [
        "from google.colab import files"
      ],
      "execution_count": null,
      "outputs": []
    },
    {
      "cell_type": "code",
      "metadata": {
        "id": "kdrj_cmEut9K"
      },
      "source": [
        "import pandas as pd\n",
        "\n",
        "ttn_list = pd.read_csv('ttn1.csv')\n",
        "ttndata1 = pd.DataFrame(ttn_list)\n",
        "\n",
        "ttn_list = pd.read_csv('ttn2.csv')\n",
        "ttndata2 = pd.DataFrame(ttn_list)"
      ],
      "execution_count": null,
      "outputs": []
    },
    {
      "cell_type": "code",
      "metadata": {
        "id": "9yi5zL_HxyTa"
      },
      "source": [
        "ttndata = pd.concat([ttndata1, ttndata2], axis=0)"
      ],
      "execution_count": null,
      "outputs": []
    },
    {
      "cell_type": "code",
      "metadata": {
        "id": "0eY7_DIUzC85"
      },
      "source": [
        "ttndata = ttndata.reset_index(drop=True)"
      ],
      "execution_count": null,
      "outputs": []
    },
    {
      "cell_type": "code",
      "metadata": {
        "id": "udtL8RH6vilO"
      },
      "source": [
        "rsid = ttndata['Rsid']\n",
        "# rsid.head(5)\n",
        "rsid[597]"
      ],
      "execution_count": null,
      "outputs": []
    },
    {
      "cell_type": "code",
      "metadata": {
        "id": "WA6CoZfx2Tcl"
      },
      "source": [
        "with open('ttnlist.txt', 'w+') as f:\n",
        "    for item in rsid:\n",
        "      f.write(item)\n",
        "      f.write('\\n')\n",
        "f.close()"
      ],
      "execution_count": null,
      "outputs": []
    },
    {
      "cell_type": "code",
      "metadata": {
        "id": "fJNBDvy_3JEo"
      },
      "source": [
        "files.download('ttnlist.txt')"
      ],
      "execution_count": null,
      "outputs": []
    }
  ]
}